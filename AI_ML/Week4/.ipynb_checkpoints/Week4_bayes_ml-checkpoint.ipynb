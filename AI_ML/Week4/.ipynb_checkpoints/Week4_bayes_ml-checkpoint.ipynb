{
 "cells": [
  {
   "cell_type": "code",
   "execution_count": null,
   "id": "c02fc3cf-9dea-4714-a674-e974d723a48b",
   "metadata": {},
   "outputs": [],
   "source": [
    "## Week 4 - Bayesian ML ##"
   ]
  },
  {
   "cell_type": "code",
   "execution_count": 10,
   "id": "8c89a15d-826c-4582-90f9-559c68dd9e7d",
   "metadata": {},
   "outputs": [],
   "source": [
    "import numpy as np\n",
    "import matplotlib.pyplot as plt\n",
    "import random\n",
    "from scipy.stats import norm"
   ]
  },
  {
   "cell_type": "code",
   "execution_count": null,
   "id": "5e4bee0f-6047-4157-afcb-82b7ef0894bb",
   "metadata": {},
   "outputs": [],
   "source": [
    "# Question 1"
   ]
  },
  {
   "cell_type": "code",
   "execution_count": 3,
   "id": "d482d9b6-64c2-4ae7-998b-2242e6ce1e72",
   "metadata": {},
   "outputs": [
    {
     "name": "stdout",
     "output_type": "stream",
     "text": [
      "Mean: 70.0000 Std: 17.3205\n"
     ]
    }
   ],
   "source": [
    "a, b = 40, 100\n",
    "\n",
    "mu = (a + b)/2 # mean\n",
    "std = np.sqrt((b-a)**2/12) #standard deviation\n",
    "\n",
    "print(f'Mean: {mu:.4f} Std: {std:.4f}')"
   ]
  },
  {
   "cell_type": "code",
   "execution_count": 15,
   "id": "66b79074-1e10-432f-bde6-25eabb1d6d0e",
   "metadata": {},
   "outputs": [],
   "source": [
    "sizes = list(range(100,10000, 1000))\n",
    "\n",
    "for s in sizes:\n",
    "    x = []\n",
    "    for ii in range(s):\n",
    "        x.append(a + (b -a) * random.random())\n",
    "\n",
    "    mu = sum(x)/len(x)\n",
    "\n",
    "    std = np.sqrt(np.sum(np.subtract(x, mu)**2)/len(x))\n",
    "\n",
    "    print(f'Mean: {mu:.4f} Std: {std:.4f}')\n",
    "    plt.hist(x)\n",
    "    plt.show()"
   ]
  },
  {
   "cell_type": "code",
   "execution_count": null,
   "id": "149a3558-80b5-4900-8c27-d215356ad505",
   "metadata": {},
   "outputs": [],
   "source": [
    "# Question 2"
   ]
  },
  {
   "cell_type": "code",
   "execution_count": 8,
   "id": "2c7242ec-2b6c-4596-bb62-d44cf589f705",
   "metadata": {},
   "outputs": [
    {
     "data": {
      "text/plain": [
       "'\\nProblems\\nWhat if I wanted to know the probability that a random variable X=.003?\\nWhat if I wanted to know the probability that a random variable X≤−2?\\nWhat if I wanted to know the probability that a random variable X≥1.25?\\n'"
      ]
     },
     "execution_count": 8,
     "metadata": {},
     "output_type": "execute_result"
    }
   ],
   "source": [
    "'''\n",
    "Problems\n",
    "What if I wanted to know the probability that a random variable X=.003?\n",
    "What if I wanted to know the probability that a random variable X≤−2?\n",
    "What if I wanted to know the probability that a random variable X≥1.25?\n",
    "'''"
   ]
  },
  {
   "cell_type": "code",
   "execution_count": 13,
   "id": "c34f3608-c6d6-4e0c-8ac7-652b2f1ea5aa",
   "metadata": {},
   "outputs": [
    {
     "name": "stdout",
     "output_type": "stream",
     "text": [
      "Prob 1: 0.399 Prob 2: 0.023 Prob 3: 0.106\n"
     ]
    },
    {
     "data": {
      "image/png": "[encoded data removed]",
      "text/plain": [
       "<Figure size 720x576 with 1 Axes>"
      ]
     },
     "metadata": {
      "needs_background": "light"
     },
     "output_type": "display_data"
    }
   ],
   "source": [
    "mu = 0\n",
    "std = 1\n",
    "#-----------------------------------------------------------------------------------------------\n",
    "distribution = norm(mu, std) \n",
    "\n",
    "#-----------------------------------------------------------------------------------------------\n",
    "# Range over which we access the pdf/cdf\n",
    "x = np.linspace(-5, 5, 1000)\n",
    "\n",
    "#-----------------------------------------------------------------------------------------------\n",
    "#The PDF is a function that describes the probability that a random variable is equal to X\n",
    "# Obtain the pdf over this range of x\n",
    "pdf = distribution.pdf(x) \n",
    "\n",
    "#-----------------------------------------------------------------------------------------------\n",
    "#The CDF is the probability that random variable values less than or equal to X\n",
    "# Obtain the cdf over this range of x\n",
    "cdf = distribution.cdf(x) \n",
    "#-----------------------------------------------------------------------------------------------\n",
    "\n",
    "# Probabilities \n",
    "prob1 = distribution.pdf(.003) #1\n",
    "prob2 = distribution.cdf(-2) #2\n",
    "prob3 = 1 - distribution.cdf(1.25) #3\n",
    "\n",
    "print(f'Prob 1: {prob1:.3f} Prob 2: {prob2:.3f} Prob 3: {prob3:.3f}')\n",
    "\n",
    "# Plot this\n",
    "fig = plt.figure(figsize = (10, 8))\n",
    "plt.plot(x, pdf, color = 'green', alpha = .4, linewidth = 5, label = 'PDF')\n",
    "plt.plot(x, cdf, color = 'green', alpha = .4, linewidth = 2, linestyle = '--', label = 'CDF')\n",
    "plt.vlines(x = .003, ymin = 0, ymax = 1, linewidth = 3, linestyle = '--', color = 'k', label = 'Prob 1')\n",
    "plt.vlines(x = -2, ymin = 0, ymax = 1, linewidth = 3, linestyle = '--', color = 'r', label = 'Prob 2')\n",
    "plt.vlines(x = 1.25, ymin = 0, ymax = 1, linewidth = 3, linestyle = '--', color = 'r', label = 'Prob 3')\n",
    "plt.legend()\n",
    "plt.show()"
   ]
  },
  {
   "cell_type": "code",
   "execution_count": null,
   "id": "b29d8a8e-d3a8-434e-8e58-3f0e06f026f3",
   "metadata": {},
   "outputs": [],
   "source": [
    "# Question 3"
   ]
  }
 ],
 "metadata": {
  "kernelspec": {
   "display_name": "Python 3 (ipykernel)",
   "language": "python",
   "name": "python3"
  },
  "language_info": {
   "codemirror_mode": {
    "name": "ipython",
    "version": 3
   },
   "file_extension": ".py",
   "mimetype": "text/x-python",
   "name": "python",
   "nbconvert_exporter": "python",
   "pygments_lexer": "ipython3",
   "version": "3.9.7"
  }
 },
 "nbformat": 4,
 "nbformat_minor": 5
}
