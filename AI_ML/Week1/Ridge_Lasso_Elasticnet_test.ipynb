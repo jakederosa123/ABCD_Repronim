{
 "cells": [
  {
   "cell_type": "code",
   "execution_count": 2,
   "id": "06c2e206-095c-4871-bf11-c333512593b2",
   "metadata": {},
   "outputs": [],
   "source": [
    "import numpy as np \n",
    "from matplotlib import pyplot as plt"
   ]
  },
  {
   "cell_type": "code",
   "execution_count": 3,
   "id": "0998b369-5c8e-4260-89ef-dddb2bb4e26c",
   "metadata": {},
   "outputs": [
    {
     "ename": "NameError",
     "evalue": "name 'lasso' is not defined",
     "output_type": "error",
     "traceback": [
      "\u001b[0;31m---------------------------------------------------------------------------\u001b[0m",
      "\u001b[0;31mNameError\u001b[0m                                 Traceback (most recent call last)",
      "\u001b[0;32m/var/folders/_b/_b0pnp351fn2h73m8fmhb8_w0000gn/T/ipykernel_53615/54307332.py\u001b[0m in \u001b[0;36m<module>\u001b[0;34m\u001b[0m\n\u001b[1;32m      8\u001b[0m \u001b[0mn_folds\u001b[0m \u001b[0;34m=\u001b[0m \u001b[0;36m5\u001b[0m\u001b[0;34m\u001b[0m\u001b[0;34m\u001b[0m\u001b[0m\n\u001b[1;32m      9\u001b[0m \u001b[0;31m# Create grid search instance using desired variables\u001b[0m\u001b[0;34m\u001b[0m\u001b[0;34m\u001b[0m\u001b[0m\n\u001b[0;32m---> 10\u001b[0;31m \u001b[0mclf_lasso\u001b[0m \u001b[0;34m=\u001b[0m \u001b[0mGridSearchCV\u001b[0m\u001b[0;34m(\u001b[0m\u001b[0mlasso\u001b[0m\u001b[0;34m,\u001b[0m \u001b[0mtuned_parameters\u001b[0m\u001b[0;34m,\u001b[0m \u001b[0mcv\u001b[0m\u001b[0;34m=\u001b[0m\u001b[0;36m5\u001b[0m\u001b[0;34m,\u001b[0m \u001b[0mrefit\u001b[0m\u001b[0;34m=\u001b[0m\u001b[0;32mTrue\u001b[0m\u001b[0;34m)\u001b[0m\u001b[0;34m\u001b[0m\u001b[0;34m\u001b[0m\u001b[0m\n\u001b[0m\u001b[1;32m     11\u001b[0m \u001b[0mclf_lasso\u001b[0m\u001b[0;34m.\u001b[0m\u001b[0mfit\u001b[0m\u001b[0;34m(\u001b[0m\u001b[0mx_train_scaled\u001b[0m\u001b[0;34m,\u001b[0m \u001b[0my_train\u001b[0m\u001b[0;34m)\u001b[0m\u001b[0;34m\u001b[0m\u001b[0;34m\u001b[0m\u001b[0m\n\u001b[1;32m     12\u001b[0m \u001b[0mlasso_scores\u001b[0m \u001b[0;34m=\u001b[0m \u001b[0mclf_lasso\u001b[0m\u001b[0;34m.\u001b[0m\u001b[0mcv_results_\u001b[0m\u001b[0;34m[\u001b[0m\u001b[0;34m'mean_test_score'\u001b[0m\u001b[0;34m]\u001b[0m\u001b[0;34m\u001b[0m\u001b[0;34m\u001b[0m\u001b[0m\n",
      "\u001b[0;31mNameError\u001b[0m: name 'lasso' is not defined"
     ]
    }
   ],
   "source": [
    "from sklearn.model_selection import GridSearchCV\n",
    "# Create an array of alpha values to test\n",
    "# Start np.linspace value is 10**-10 because a value of 0 throws warnings\n",
    "alphas = np.logspace(-10, 1, 1000,base=10)\n",
    "# Create dictionary key,value pair of alpha values\n",
    "tuned_parameters = [{'alpha': alphas}]\n",
    "# Specify number of folds for cross_validation\n",
    "n_folds = 5\n",
    "# Create grid search instance using desired variables\n",
    "clf_lasso = GridSearchCV(lasso, tuned_parameters, cv=5, refit=True)\n",
    "clf_lasso.fit(x_train_scaled, y_train)\n",
    "lasso_scores = clf_lasso.cv_results_['mean_test_score']\n",
    "# Plot the results\n",
    "plt.figure().set_size_inches(8, 6)\n",
    "plt.plot(alphas, lasso_scores)\n",
    "plt.xlabel('Alpha Value')\n",
    "plt.ylabel('Model CV Score')\n",
    "plt.title('Lasso Regression Alpha Demonstration')\n",
    "plt.axvline(clf_lasso.best_params_['alpha'], color='black', linestyle='--')\n",
    "print(f'The optimal alpha value is :{clf_lasso.best_params_[\"alpha\"]}')"
   ]
  },
  {
   "cell_type": "code",
   "execution_count": null,
   "id": "b2f2cf76-26f5-4e40-b8c7-cd22d05b3400",
   "metadata": {},
   "outputs": [],
   "source": []
  }
 ],
 "metadata": {
  "kernelspec": {
   "display_name": "Python 3 (ipykernel)",
   "language": "python",
   "name": "python3"
  },
  "language_info": {
   "codemirror_mode": {
    "name": "ipython",
    "version": 3
   },
   "file_extension": ".py",
   "mimetype": "text/x-python",
   "name": "python",
   "nbconvert_exporter": "python",
   "pygments_lexer": "ipython3",
   "version": "3.9.7"
  }
 },
 "nbformat": 4,
 "nbformat_minor": 5
}
